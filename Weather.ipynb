{
 "cells": [
  {
   "cell_type": "code",
   "execution_count": 1,
   "id": "a5d83148",
   "metadata": {},
   "outputs": [],
   "source": [
    "import pandas as pd"
   ]
  },
  {
   "cell_type": "code",
   "execution_count": null,
   "id": "1727f517",
   "metadata": {},
   "outputs": [],
   "source": [
    "df_sheet_all = pd.read_excel('Weatherdata.xlsx', sheet_name=None)\n",
    "df=df_sheet_all['Apr2022']"
   ]
  },
  {
   "cell_type": "code",
   "execution_count": null,
   "id": "b2305802",
   "metadata": {},
   "outputs": [],
   "source": [
    "df=pd.concat([df,df_sheet_all['March2022']])"
   ]
  },
  {
   "cell_type": "code",
   "execution_count": null,
   "id": "f782cf21",
   "metadata": {},
   "outputs": [],
   "source": [
    "df=pd.concat([df,df_sheet_all['Feb2022']])"
   ]
  },
  {
   "cell_type": "code",
   "execution_count": null,
   "id": "ec9eefb0",
   "metadata": {},
   "outputs": [],
   "source": [
    "df=pd.concat([df,df_sheet_all['Jan2022']])"
   ]
  },
  {
   "cell_type": "code",
   "execution_count": null,
   "id": "944dd63a",
   "metadata": {},
   "outputs": [],
   "source": [
    "df=pd.concat([df,df_sheet_all['Dec2021']])"
   ]
  },
  {
   "cell_type": "code",
   "execution_count": null,
   "id": "5f30ef1a",
   "metadata": {},
   "outputs": [],
   "source": [
    "for key in list(df_sheet_all):\n",
    "    df=pd.concat([df,df_sheet_all[key]])"
   ]
  },
  {
   "cell_type": "code",
   "execution_count": null,
   "id": "8522aef2",
   "metadata": {},
   "outputs": [],
   "source": [
    "df=df.reset_index()"
   ]
  },
  {
   "cell_type": "code",
   "execution_count": null,
   "id": "8b367f38",
   "metadata": {},
   "outputs": [],
   "source": [
    "df.drop('index',axis=1,inplace=True)"
   ]
  },
  {
   "cell_type": "code",
   "execution_count": null,
   "id": "a9825b51",
   "metadata": {},
   "outputs": [],
   "source": [
    "df.drop('Precipitation',axis=1,inplace=True)"
   ]
  },
  {
   "cell_type": "code",
   "execution_count": null,
   "id": "ae64fea2",
   "metadata": {},
   "outputs": [],
   "source": [
    "df.head()"
   ]
  },
  {
   "cell_type": "code",
   "execution_count": null,
   "id": "5eae849d",
   "metadata": {},
   "outputs": [],
   "source": [
    "df.describe()"
   ]
  },
  {
   "cell_type": "code",
   "execution_count": null,
   "id": "967a1939",
   "metadata": {},
   "outputs": [],
   "source": [
    "df.isna().sum()"
   ]
  },
  {
   "cell_type": "code",
   "execution_count": null,
   "id": "d87fe25c",
   "metadata": {},
   "outputs": [],
   "source": [
    "df.corr()"
   ]
  },
  {
   "cell_type": "code",
   "execution_count": null,
   "id": "1834fac0",
   "metadata": {},
   "outputs": [],
   "source": [
    "from scipy import stats\n",
    "import seaborn as sns"
   ]
  },
  {
   "cell_type": "code",
   "execution_count": null,
   "id": "2c72ef3e",
   "metadata": {},
   "outputs": [],
   "source": [
    "sns.boxplot(data=df)"
   ]
  },
  {
   "cell_type": "code",
   "execution_count": null,
   "id": "9663d990",
   "metadata": {},
   "outputs": [],
   "source": [
    "df=df[df.Wind<20]"
   ]
  },
  {
   "cell_type": "code",
   "execution_count": null,
   "id": "58155960",
   "metadata": {},
   "outputs": [],
   "source": [
    "df=df[df.AverageDew>15]"
   ]
  },
  {
   "cell_type": "code",
   "execution_count": null,
   "id": "f6e9ee26",
   "metadata": {},
   "outputs": [],
   "source": [
    "df=df[df.Pressure>28.5]"
   ]
  },
  {
   "cell_type": "code",
   "execution_count": null,
   "id": "d694a3cd",
   "metadata": {},
   "outputs": [],
   "source": [
    "df=df[df.Humidity<49]"
   ]
  },
  {
   "cell_type": "code",
   "execution_count": null,
   "id": "1ba5ee3d",
   "metadata": {},
   "outputs": [],
   "source": [
    "df_outliers=df.drop('Date',axis=1)"
   ]
  },
  {
   "cell_type": "code",
   "execution_count": null,
   "id": "594fc5d6",
   "metadata": {},
   "outputs": [],
   "source": [
    "df.to_csv('weaterdata.csv')"
   ]
  },
  {
   "cell_type": "code",
   "execution_count": null,
   "id": "08d2a02e",
   "metadata": {},
   "outputs": [],
   "source": []
  }
 ],
 "metadata": {
  "kernelspec": {
   "display_name": "Python 3 (ipykernel)",
   "language": "python",
   "name": "python3"
  },
  "language_info": {
   "codemirror_mode": {
    "name": "ipython",
    "version": 3
   },
   "file_extension": ".py",
   "mimetype": "text/x-python",
   "name": "python",
   "nbconvert_exporter": "python",
   "pygments_lexer": "ipython3",
   "version": "3.8.12"
  }
 },
 "nbformat": 4,
 "nbformat_minor": 5
}
